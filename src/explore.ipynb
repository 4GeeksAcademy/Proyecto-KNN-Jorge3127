{
 "cells": [
  {
   "cell_type": "markdown",
   "metadata": {},
   "source": [
    "# Explore here"
   ]
  },
  {
   "cell_type": "code",
   "execution_count": 1,
   "metadata": {},
   "outputs": [],
   "source": [
    "# Your code here\n",
    "import pandas as pd\n",
    "import numpy as np\n",
    "import ast\n",
    "\n",
    "import matplotlib.pyplot as plt\n",
    "import seaborn as sns\n",
    "\n",
    "\n",
    "from sklearn.datasets import make_regression\n",
    "from sklearn.datasets import load_wine\n",
    "\n",
    "from sklearn.model_selection import train_test_split\n",
    "\n",
    "# supervisado\n",
    "from sklearn.neighbors import KNeighborsClassifier\n",
    "from sklearn.neighbors import KNeighborsRegressor\n",
    "\n",
    "from sklearn.feature_extraction.text import CountVectorizer\n",
    "from sklearn.metrics.pairwise import cosine_similarity\n",
    "\n",
    "# no supervisado\n",
    "from sklearn.neighbors import NearestNeighbors\n",
    "\n",
    "from sklearn.metrics import accuracy_score\n",
    "\n",
    "from sklearn.metrics import mean_squared_error, r2_score\n",
    "\n",
    "import warnings\n",
    "warnings.filterwarnings('ignore')"
   ]
  },
  {
   "cell_type": "code",
   "execution_count": 2,
   "metadata": {},
   "outputs": [
    {
     "name": "stdout",
     "output_type": "stream",
     "text": [
      "----(1). IMPORTO EL PRIMER DATASET----\n"
     ]
    },
    {
     "data": {
      "text/html": [
       "<div>\n",
       "<style scoped>\n",
       "    .dataframe tbody tr th:only-of-type {\n",
       "        vertical-align: middle;\n",
       "    }\n",
       "\n",
       "    .dataframe tbody tr th {\n",
       "        vertical-align: top;\n",
       "    }\n",
       "\n",
       "    .dataframe thead th {\n",
       "        text-align: right;\n",
       "    }\n",
       "</style>\n",
       "<table border=\"1\" class=\"dataframe\">\n",
       "  <thead>\n",
       "    <tr style=\"text-align: right;\">\n",
       "      <th></th>\n",
       "      <th>budget</th>\n",
       "      <th>genres</th>\n",
       "      <th>homepage</th>\n",
       "      <th>id</th>\n",
       "      <th>keywords</th>\n",
       "      <th>original_language</th>\n",
       "      <th>original_title</th>\n",
       "      <th>overview</th>\n",
       "      <th>popularity</th>\n",
       "      <th>production_companies</th>\n",
       "      <th>production_countries</th>\n",
       "      <th>release_date</th>\n",
       "      <th>revenue</th>\n",
       "      <th>runtime</th>\n",
       "      <th>spoken_languages</th>\n",
       "      <th>status</th>\n",
       "      <th>tagline</th>\n",
       "      <th>title</th>\n",
       "      <th>vote_average</th>\n",
       "      <th>vote_count</th>\n",
       "    </tr>\n",
       "  </thead>\n",
       "  <tbody>\n",
       "    <tr>\n",
       "      <th>0</th>\n",
       "      <td>237000000</td>\n",
       "      <td>[{\"id\": 28, \"name\": \"Action\"}, {\"id\": 12, \"nam...</td>\n",
       "      <td>http://www.avatarmovie.com/</td>\n",
       "      <td>19995</td>\n",
       "      <td>[{\"id\": 1463, \"name\": \"culture clash\"}, {\"id\":...</td>\n",
       "      <td>en</td>\n",
       "      <td>Avatar</td>\n",
       "      <td>In the 22nd century, a paraplegic Marine is di...</td>\n",
       "      <td>150.437577</td>\n",
       "      <td>[{\"name\": \"Ingenious Film Partners\", \"id\": 289...</td>\n",
       "      <td>[{\"iso_3166_1\": \"US\", \"name\": \"United States o...</td>\n",
       "      <td>2009-12-10</td>\n",
       "      <td>2787965087</td>\n",
       "      <td>162.0</td>\n",
       "      <td>[{\"iso_639_1\": \"en\", \"name\": \"English\"}, {\"iso...</td>\n",
       "      <td>Released</td>\n",
       "      <td>Enter the World of Pandora.</td>\n",
       "      <td>Avatar</td>\n",
       "      <td>7.2</td>\n",
       "      <td>11800</td>\n",
       "    </tr>\n",
       "    <tr>\n",
       "      <th>1</th>\n",
       "      <td>300000000</td>\n",
       "      <td>[{\"id\": 12, \"name\": \"Adventure\"}, {\"id\": 14, \"...</td>\n",
       "      <td>http://disney.go.com/disneypictures/pirates/</td>\n",
       "      <td>285</td>\n",
       "      <td>[{\"id\": 270, \"name\": \"ocean\"}, {\"id\": 726, \"na...</td>\n",
       "      <td>en</td>\n",
       "      <td>Pirates of the Caribbean: At World's End</td>\n",
       "      <td>Captain Barbossa, long believed to be dead, ha...</td>\n",
       "      <td>139.082615</td>\n",
       "      <td>[{\"name\": \"Walt Disney Pictures\", \"id\": 2}, {\"...</td>\n",
       "      <td>[{\"iso_3166_1\": \"US\", \"name\": \"United States o...</td>\n",
       "      <td>2007-05-19</td>\n",
       "      <td>961000000</td>\n",
       "      <td>169.0</td>\n",
       "      <td>[{\"iso_639_1\": \"en\", \"name\": \"English\"}]</td>\n",
       "      <td>Released</td>\n",
       "      <td>At the end of the world, the adventure begins.</td>\n",
       "      <td>Pirates of the Caribbean: At World's End</td>\n",
       "      <td>6.9</td>\n",
       "      <td>4500</td>\n",
       "    </tr>\n",
       "  </tbody>\n",
       "</table>\n",
       "</div>"
      ],
      "text/plain": [
       "      budget                                             genres  \\\n",
       "0  237000000  [{\"id\": 28, \"name\": \"Action\"}, {\"id\": 12, \"nam...   \n",
       "1  300000000  [{\"id\": 12, \"name\": \"Adventure\"}, {\"id\": 14, \"...   \n",
       "\n",
       "                                       homepage     id  \\\n",
       "0                   http://www.avatarmovie.com/  19995   \n",
       "1  http://disney.go.com/disneypictures/pirates/    285   \n",
       "\n",
       "                                            keywords original_language  \\\n",
       "0  [{\"id\": 1463, \"name\": \"culture clash\"}, {\"id\":...                en   \n",
       "1  [{\"id\": 270, \"name\": \"ocean\"}, {\"id\": 726, \"na...                en   \n",
       "\n",
       "                             original_title  \\\n",
       "0                                    Avatar   \n",
       "1  Pirates of the Caribbean: At World's End   \n",
       "\n",
       "                                            overview  popularity  \\\n",
       "0  In the 22nd century, a paraplegic Marine is di...  150.437577   \n",
       "1  Captain Barbossa, long believed to be dead, ha...  139.082615   \n",
       "\n",
       "                                production_companies  \\\n",
       "0  [{\"name\": \"Ingenious Film Partners\", \"id\": 289...   \n",
       "1  [{\"name\": \"Walt Disney Pictures\", \"id\": 2}, {\"...   \n",
       "\n",
       "                                production_countries release_date     revenue  \\\n",
       "0  [{\"iso_3166_1\": \"US\", \"name\": \"United States o...   2009-12-10  2787965087   \n",
       "1  [{\"iso_3166_1\": \"US\", \"name\": \"United States o...   2007-05-19   961000000   \n",
       "\n",
       "   runtime                                   spoken_languages    status  \\\n",
       "0    162.0  [{\"iso_639_1\": \"en\", \"name\": \"English\"}, {\"iso...  Released   \n",
       "1    169.0           [{\"iso_639_1\": \"en\", \"name\": \"English\"}]  Released   \n",
       "\n",
       "                                          tagline  \\\n",
       "0                     Enter the World of Pandora.   \n",
       "1  At the end of the world, the adventure begins.   \n",
       "\n",
       "                                      title  vote_average  vote_count  \n",
       "0                                    Avatar           7.2       11800  \n",
       "1  Pirates of the Caribbean: At World's End           6.9        4500  "
      ]
     },
     "execution_count": 2,
     "metadata": {},
     "output_type": "execute_result"
    }
   ],
   "source": [
    "print(\"----(1). IMPORTO EL PRIMER DATASET----\")\n",
    "df1 = pd.read_csv('https://raw.githubusercontent.com/4GeeksAcademy/k-nearest-neighbors-project-tutorial/main/tmdb_5000_movies.csv')\n",
    "df1.head(2)"
   ]
  },
  {
   "cell_type": "code",
   "execution_count": 3,
   "metadata": {},
   "outputs": [
    {
     "name": "stdout",
     "output_type": "stream",
     "text": [
      "<class 'pandas.core.frame.DataFrame'>\n",
      "RangeIndex: 4803 entries, 0 to 4802\n",
      "Data columns (total 20 columns):\n",
      " #   Column                Non-Null Count  Dtype  \n",
      "---  ------                --------------  -----  \n",
      " 0   budget                4803 non-null   int64  \n",
      " 1   genres                4803 non-null   object \n",
      " 2   homepage              1712 non-null   object \n",
      " 3   id                    4803 non-null   int64  \n",
      " 4   keywords              4803 non-null   object \n",
      " 5   original_language     4803 non-null   object \n",
      " 6   original_title        4803 non-null   object \n",
      " 7   overview              4800 non-null   object \n",
      " 8   popularity            4803 non-null   float64\n",
      " 9   production_companies  4803 non-null   object \n",
      " 10  production_countries  4803 non-null   object \n",
      " 11  release_date          4802 non-null   object \n",
      " 12  revenue               4803 non-null   int64  \n",
      " 13  runtime               4801 non-null   float64\n",
      " 14  spoken_languages      4803 non-null   object \n",
      " 15  status                4803 non-null   object \n",
      " 16  tagline               3959 non-null   object \n",
      " 17  title                 4803 non-null   object \n",
      " 18  vote_average          4803 non-null   float64\n",
      " 19  vote_count            4803 non-null   int64  \n",
      "dtypes: float64(3), int64(4), object(13)\n",
      "memory usage: 750.6+ KB\n"
     ]
    }
   ],
   "source": [
    "df1.info()"
   ]
  },
  {
   "cell_type": "code",
   "execution_count": 4,
   "metadata": {},
   "outputs": [
    {
     "name": "stdout",
     "output_type": "stream",
     "text": [
      "----(2). IMPORTO EL SEGUNDO DATASET----\n"
     ]
    },
    {
     "data": {
      "text/html": [
       "<div>\n",
       "<style scoped>\n",
       "    .dataframe tbody tr th:only-of-type {\n",
       "        vertical-align: middle;\n",
       "    }\n",
       "\n",
       "    .dataframe tbody tr th {\n",
       "        vertical-align: top;\n",
       "    }\n",
       "\n",
       "    .dataframe thead th {\n",
       "        text-align: right;\n",
       "    }\n",
       "</style>\n",
       "<table border=\"1\" class=\"dataframe\">\n",
       "  <thead>\n",
       "    <tr style=\"text-align: right;\">\n",
       "      <th></th>\n",
       "      <th>movie_id</th>\n",
       "      <th>title</th>\n",
       "      <th>cast</th>\n",
       "      <th>crew</th>\n",
       "    </tr>\n",
       "  </thead>\n",
       "  <tbody>\n",
       "    <tr>\n",
       "      <th>0</th>\n",
       "      <td>19995</td>\n",
       "      <td>Avatar</td>\n",
       "      <td>[{\"cast_id\": 242, \"character\": \"Jake Sully\", \"...</td>\n",
       "      <td>[{\"credit_id\": \"52fe48009251416c750aca23\", \"de...</td>\n",
       "    </tr>\n",
       "    <tr>\n",
       "      <th>1</th>\n",
       "      <td>285</td>\n",
       "      <td>Pirates of the Caribbean: At World's End</td>\n",
       "      <td>[{\"cast_id\": 4, \"character\": \"Captain Jack Spa...</td>\n",
       "      <td>[{\"credit_id\": \"52fe4232c3a36847f800b579\", \"de...</td>\n",
       "    </tr>\n",
       "  </tbody>\n",
       "</table>\n",
       "</div>"
      ],
      "text/plain": [
       "   movie_id                                     title  \\\n",
       "0     19995                                    Avatar   \n",
       "1       285  Pirates of the Caribbean: At World's End   \n",
       "\n",
       "                                                cast  \\\n",
       "0  [{\"cast_id\": 242, \"character\": \"Jake Sully\", \"...   \n",
       "1  [{\"cast_id\": 4, \"character\": \"Captain Jack Spa...   \n",
       "\n",
       "                                                crew  \n",
       "0  [{\"credit_id\": \"52fe48009251416c750aca23\", \"de...  \n",
       "1  [{\"credit_id\": \"52fe4232c3a36847f800b579\", \"de...  "
      ]
     },
     "execution_count": 4,
     "metadata": {},
     "output_type": "execute_result"
    }
   ],
   "source": [
    "print(\"----(2). IMPORTO EL SEGUNDO DATASET----\")\n",
    "df2 = pd.read_csv('https://raw.githubusercontent.com/4GeeksAcademy/k-nearest-neighbors-project-tutorial/main/tmdb_5000_credits.csv')\n",
    "df2.head(2)"
   ]
  },
  {
   "cell_type": "code",
   "execution_count": 5,
   "metadata": {},
   "outputs": [
    {
     "name": "stdout",
     "output_type": "stream",
     "text": [
      "<class 'pandas.core.frame.DataFrame'>\n",
      "RangeIndex: 4803 entries, 0 to 4802\n",
      "Data columns (total 4 columns):\n",
      " #   Column    Non-Null Count  Dtype \n",
      "---  ------    --------------  ----- \n",
      " 0   movie_id  4803 non-null   int64 \n",
      " 1   title     4803 non-null   object\n",
      " 2   cast      4803 non-null   object\n",
      " 3   crew      4803 non-null   object\n",
      "dtypes: int64(1), object(3)\n",
      "memory usage: 150.2+ KB\n"
     ]
    }
   ],
   "source": [
    "df2.info()"
   ]
  },
  {
   "cell_type": "code",
   "execution_count": 6,
   "metadata": {},
   "outputs": [
    {
     "name": "stdout",
     "output_type": "stream",
     "text": [
      "----(3). UNO LAS DOS TABLAS POR MEDIO DE LOS ATRIBUTOS ID Y MOVIE_ID Y LA IMPRIMO----\n",
      "\n",
      "      budget                                             genres  \\\n",
      "0  237000000  [{\"id\": 28, \"name\": \"Action\"}, {\"id\": 12, \"nam...   \n",
      "1  300000000  [{\"id\": 12, \"name\": \"Adventure\"}, {\"id\": 14, \"...   \n",
      "2  245000000  [{\"id\": 28, \"name\": \"Action\"}, {\"id\": 12, \"nam...   \n",
      "3  250000000  [{\"id\": 28, \"name\": \"Action\"}, {\"id\": 80, \"nam...   \n",
      "4  260000000  [{\"id\": 28, \"name\": \"Action\"}, {\"id\": 12, \"nam...   \n",
      "\n",
      "                                       homepage      id  \\\n",
      "0                   http://www.avatarmovie.com/   19995   \n",
      "1  http://disney.go.com/disneypictures/pirates/     285   \n",
      "2   http://www.sonypictures.com/movies/spectre/  206647   \n",
      "3            http://www.thedarkknightrises.com/   49026   \n",
      "4          http://movies.disney.com/john-carter   49529   \n",
      "\n",
      "                                            keywords original_language  \\\n",
      "0  [{\"id\": 1463, \"name\": \"culture clash\"}, {\"id\":...                en   \n",
      "1  [{\"id\": 270, \"name\": \"ocean\"}, {\"id\": 726, \"na...                en   \n",
      "2  [{\"id\": 470, \"name\": \"spy\"}, {\"id\": 818, \"name...                en   \n",
      "3  [{\"id\": 849, \"name\": \"dc comics\"}, {\"id\": 853,...                en   \n",
      "4  [{\"id\": 818, \"name\": \"based on novel\"}, {\"id\":...                en   \n",
      "\n",
      "                             original_title  \\\n",
      "0                                    Avatar   \n",
      "1  Pirates of the Caribbean: At World's End   \n",
      "2                                   Spectre   \n",
      "3                     The Dark Knight Rises   \n",
      "4                               John Carter   \n",
      "\n",
      "                                            overview  popularity  \\\n",
      "0  In the 22nd century, a paraplegic Marine is di...  150.437577   \n",
      "1  Captain Barbossa, long believed to be dead, ha...  139.082615   \n",
      "2  A cryptic message from Bond’s past sends him o...  107.376788   \n",
      "3  Following the death of District Attorney Harve...  112.312950   \n",
      "4  John Carter is a war-weary, former military ca...   43.926995   \n",
      "\n",
      "                                production_companies  ...  \\\n",
      "0  [{\"name\": \"Ingenious Film Partners\", \"id\": 289...  ...   \n",
      "1  [{\"name\": \"Walt Disney Pictures\", \"id\": 2}, {\"...  ...   \n",
      "2  [{\"name\": \"Columbia Pictures\", \"id\": 5}, {\"nam...  ...   \n",
      "3  [{\"name\": \"Legendary Pictures\", \"id\": 923}, {\"...  ...   \n",
      "4        [{\"name\": \"Walt Disney Pictures\", \"id\": 2}]  ...   \n",
      "\n",
      "                                    spoken_languages    status  \\\n",
      "0  [{\"iso_639_1\": \"en\", \"name\": \"English\"}, {\"iso...  Released   \n",
      "1           [{\"iso_639_1\": \"en\", \"name\": \"English\"}]  Released   \n",
      "2  [{\"iso_639_1\": \"fr\", \"name\": \"Fran\\u00e7ais\"},...  Released   \n",
      "3           [{\"iso_639_1\": \"en\", \"name\": \"English\"}]  Released   \n",
      "4           [{\"iso_639_1\": \"en\", \"name\": \"English\"}]  Released   \n",
      "\n",
      "                                          tagline  \\\n",
      "0                     Enter the World of Pandora.   \n",
      "1  At the end of the world, the adventure begins.   \n",
      "2                           A Plan No One Escapes   \n",
      "3                                 The Legend Ends   \n",
      "4            Lost in our world, found in another.   \n",
      "\n",
      "                                    title_x vote_average vote_count movie_id  \\\n",
      "0                                    Avatar          7.2      11800    19995   \n",
      "1  Pirates of the Caribbean: At World's End          6.9       4500      285   \n",
      "2                                   Spectre          6.3       4466   206647   \n",
      "3                     The Dark Knight Rises          7.6       9106    49026   \n",
      "4                               John Carter          6.1       2124    49529   \n",
      "\n",
      "                                    title_y  \\\n",
      "0                                    Avatar   \n",
      "1  Pirates of the Caribbean: At World's End   \n",
      "2                                   Spectre   \n",
      "3                     The Dark Knight Rises   \n",
      "4                               John Carter   \n",
      "\n",
      "                                                cast  \\\n",
      "0  [{\"cast_id\": 242, \"character\": \"Jake Sully\", \"...   \n",
      "1  [{\"cast_id\": 4, \"character\": \"Captain Jack Spa...   \n",
      "2  [{\"cast_id\": 1, \"character\": \"James Bond\", \"cr...   \n",
      "3  [{\"cast_id\": 2, \"character\": \"Bruce Wayne / Ba...   \n",
      "4  [{\"cast_id\": 5, \"character\": \"John Carter\", \"c...   \n",
      "\n",
      "                                                crew  \n",
      "0  [{\"credit_id\": \"52fe48009251416c750aca23\", \"de...  \n",
      "1  [{\"credit_id\": \"52fe4232c3a36847f800b579\", \"de...  \n",
      "2  [{\"credit_id\": \"54805967c3a36829b5002c41\", \"de...  \n",
      "3  [{\"credit_id\": \"52fe4781c3a36847f81398c3\", \"de...  \n",
      "4  [{\"credit_id\": \"52fe479ac3a36847f813eaa3\", \"de...  \n",
      "\n",
      "[5 rows x 24 columns]\n"
     ]
    }
   ],
   "source": [
    "print(\"----(3). UNO LAS DOS TABLAS POR MEDIO DE LOS ATRIBUTOS ID Y MOVIE_ID Y LA IMPRIMO----\\n\")\n",
    "# Unir las tablas por medio de los atributos id y movie_id\n",
    "df_unido = pd.merge(df1, df2, left_on='id', right_on='movie_id')\n",
    "\n",
    "# Imprimir las primeras filas de la tabla unida\n",
    "print(df_unido.head())\n"
   ]
  },
  {
   "cell_type": "code",
   "execution_count": 7,
   "metadata": {},
   "outputs": [
    {
     "name": "stdout",
     "output_type": "stream",
     "text": [
      "<class 'pandas.core.frame.DataFrame'>\n",
      "RangeIndex: 4803 entries, 0 to 4802\n",
      "Data columns (total 24 columns):\n",
      " #   Column                Non-Null Count  Dtype  \n",
      "---  ------                --------------  -----  \n",
      " 0   budget                4803 non-null   int64  \n",
      " 1   genres                4803 non-null   object \n",
      " 2   homepage              1712 non-null   object \n",
      " 3   id                    4803 non-null   int64  \n",
      " 4   keywords              4803 non-null   object \n",
      " 5   original_language     4803 non-null   object \n",
      " 6   original_title        4803 non-null   object \n",
      " 7   overview              4800 non-null   object \n",
      " 8   popularity            4803 non-null   float64\n",
      " 9   production_companies  4803 non-null   object \n",
      " 10  production_countries  4803 non-null   object \n",
      " 11  release_date          4802 non-null   object \n",
      " 12  revenue               4803 non-null   int64  \n",
      " 13  runtime               4801 non-null   float64\n",
      " 14  spoken_languages      4803 non-null   object \n",
      " 15  status                4803 non-null   object \n",
      " 16  tagline               3959 non-null   object \n",
      " 17  title_x               4803 non-null   object \n",
      " 18  vote_average          4803 non-null   float64\n",
      " 19  vote_count            4803 non-null   int64  \n",
      " 20  movie_id              4803 non-null   int64  \n",
      " 21  title_y               4803 non-null   object \n",
      " 22  cast                  4803 non-null   object \n",
      " 23  crew                  4803 non-null   object \n",
      "dtypes: float64(3), int64(5), object(16)\n",
      "memory usage: 900.7+ KB\n"
     ]
    }
   ],
   "source": [
    "df_unido.info()"
   ]
  },
  {
   "cell_type": "code",
   "execution_count": 8,
   "metadata": {},
   "outputs": [
    {
     "name": "stdout",
     "output_type": "stream",
     "text": [
      "----(4). LIMPIO LA TABLA GENERADA Y SOLO DEJAR LAS VARIABLES MOVIE_ID, TITLE, OVERVIEW, GENRES, KEYWORDS, CAST Y CREW----\n",
      "\n",
      "   movie_id                                   title_x  \\\n",
      "0     19995                                    Avatar   \n",
      "1       285  Pirates of the Caribbean: At World's End   \n",
      "2    206647                                   Spectre   \n",
      "3     49026                     The Dark Knight Rises   \n",
      "4     49529                               John Carter   \n",
      "\n",
      "                                            overview  \\\n",
      "0  In the 22nd century, a paraplegic Marine is di...   \n",
      "1  Captain Barbossa, long believed to be dead, ha...   \n",
      "2  A cryptic message from Bond’s past sends him o...   \n",
      "3  Following the death of District Attorney Harve...   \n",
      "4  John Carter is a war-weary, former military ca...   \n",
      "\n",
      "                                              genres  \\\n",
      "0  [{\"id\": 28, \"name\": \"Action\"}, {\"id\": 12, \"nam...   \n",
      "1  [{\"id\": 12, \"name\": \"Adventure\"}, {\"id\": 14, \"...   \n",
      "2  [{\"id\": 28, \"name\": \"Action\"}, {\"id\": 12, \"nam...   \n",
      "3  [{\"id\": 28, \"name\": \"Action\"}, {\"id\": 80, \"nam...   \n",
      "4  [{\"id\": 28, \"name\": \"Action\"}, {\"id\": 12, \"nam...   \n",
      "\n",
      "                                            keywords  \\\n",
      "0  [{\"id\": 1463, \"name\": \"culture clash\"}, {\"id\":...   \n",
      "1  [{\"id\": 270, \"name\": \"ocean\"}, {\"id\": 726, \"na...   \n",
      "2  [{\"id\": 470, \"name\": \"spy\"}, {\"id\": 818, \"name...   \n",
      "3  [{\"id\": 849, \"name\": \"dc comics\"}, {\"id\": 853,...   \n",
      "4  [{\"id\": 818, \"name\": \"based on novel\"}, {\"id\":...   \n",
      "\n",
      "                                                cast  \\\n",
      "0  [{\"cast_id\": 242, \"character\": \"Jake Sully\", \"...   \n",
      "1  [{\"cast_id\": 4, \"character\": \"Captain Jack Spa...   \n",
      "2  [{\"cast_id\": 1, \"character\": \"James Bond\", \"cr...   \n",
      "3  [{\"cast_id\": 2, \"character\": \"Bruce Wayne / Ba...   \n",
      "4  [{\"cast_id\": 5, \"character\": \"John Carter\", \"c...   \n",
      "\n",
      "                                                crew  \n",
      "0  [{\"credit_id\": \"52fe48009251416c750aca23\", \"de...  \n",
      "1  [{\"credit_id\": \"52fe4232c3a36847f800b579\", \"de...  \n",
      "2  [{\"credit_id\": \"54805967c3a36829b5002c41\", \"de...  \n",
      "3  [{\"credit_id\": \"52fe4781c3a36847f81398c3\", \"de...  \n",
      "4  [{\"credit_id\": \"52fe479ac3a36847f813eaa3\", \"de...  \n"
     ]
    }
   ],
   "source": [
    "print(\"----(4). LIMPIO LA TABLA GENERADA Y SOLO DEJAR LAS VARIABLES MOVIE_ID, TITLE, OVERVIEW, GENRES, KEYWORDS, CAST Y CREW----\\n\")\n",
    "# Seleccionar las columnas relevantes\n",
    "df_unido_y_limpio = df_unido[['movie_id', 'title_x', 'overview', 'genres', 'keywords', 'cast', 'crew']]\n",
    "\n",
    "# Imprimir las primeras filas de la tabla limpia\n",
    "print(df_unido_y_limpio.head())\n"
   ]
  },
  {
   "cell_type": "code",
   "execution_count": 9,
   "metadata": {},
   "outputs": [
    {
     "name": "stdout",
     "output_type": "stream",
     "text": [
      "<class 'pandas.core.frame.DataFrame'>\n",
      "RangeIndex: 4803 entries, 0 to 4802\n",
      "Data columns (total 7 columns):\n",
      " #   Column    Non-Null Count  Dtype \n",
      "---  ------    --------------  ----- \n",
      " 0   movie_id  4803 non-null   int64 \n",
      " 1   title_x   4803 non-null   object\n",
      " 2   overview  4800 non-null   object\n",
      " 3   genres    4803 non-null   object\n",
      " 4   keywords  4803 non-null   object\n",
      " 5   cast      4803 non-null   object\n",
      " 6   crew      4803 non-null   object\n",
      "dtypes: int64(1), object(6)\n",
      "memory usage: 262.8+ KB\n"
     ]
    }
   ],
   "source": [
    "df_unido_y_limpio.info()"
   ]
  },
  {
   "cell_type": "code",
   "execution_count": 10,
   "metadata": {},
   "outputs": [
    {
     "name": "stdout",
     "output_type": "stream",
     "text": [
      "----(5). TRANSFORMO LOS DATOS JSON (genres y keywords)----\n",
      "                                          genres  \\\n",
      "0  [Action, Adventure, Fantasy, Science Fiction]   \n",
      "1                   [Adventure, Fantasy, Action]   \n",
      "2                     [Action, Adventure, Crime]   \n",
      "3               [Action, Crime, Drama, Thriller]   \n",
      "4           [Action, Adventure, Science Fiction]   \n",
      "\n",
      "                                            keywords  \n",
      "0  [culture clash, future, space war, space colon...  \n",
      "1  [ocean, drug abuse, exotic island, east india ...  \n",
      "2  [spy, based on novel, secret agent, sequel, mi...  \n",
      "3  [dc comics, crime fighter, terrorist, secret i...  \n",
      "4  [based on novel, mars, medallion, space travel...  \n"
     ]
    }
   ],
   "source": [
    "print(\"----(5). TRANSFORMO LOS DATOS JSON (genres y keywords)----\")\n",
    "import ast\n",
    "\n",
    "def extract_names(column):\n",
    "    try:\n",
    "        data = ast.literal_eval(column)\n",
    "        if isinstance(data, list):\n",
    "            return [d['name'] for d in data]\n",
    "        return []\n",
    "    except (ValueError, SyntaxError):\n",
    "        return []\n",
    "\n",
    "# Transformar las columnas JSON a listas de nombres\n",
    "df_unido_y_limpio['genres'] = df_unido_y_limpio['genres'].apply(extract_names)\n",
    "df_unido_y_limpio['keywords'] = df_unido_y_limpio['keywords'].apply(extract_names)\n",
    "\n",
    "# Imprimir las primeras filas para verificar\n",
    "print(df_unido_y_limpio[['genres', 'keywords']].head())\n"
   ]
  },
  {
   "cell_type": "code",
   "execution_count": 11,
   "metadata": {},
   "outputs": [
    {
     "name": "stdout",
     "output_type": "stream",
     "text": [
      "----(6). SELECCIONO LOS 3 PRIMEROS NOMBRES DE CAST Y EL NOMBRE DEL DIRECTOR DE CREW----\n",
      "                                               cast               crew\n",
      "0  [Sam Worthington, Zoe Saldana, Sigourney Weaver]      James Cameron\n",
      "1     [Johnny Depp, Orlando Bloom, Keira Knightley]     Gore Verbinski\n",
      "2      [Daniel Craig, Christoph Waltz, Léa Seydoux]         Sam Mendes\n",
      "3      [Christian Bale, Michael Caine, Gary Oldman]  Christopher Nolan\n",
      "4    [Taylor Kitsch, Lynn Collins, Samantha Morton]     Andrew Stanton\n"
     ]
    }
   ],
   "source": [
    "print(\"----(6). SELECCIONO LOS 3 PRIMEROS NOMBRES DE CAST Y EL NOMBRE DEL DIRECTOR DE CREW----\")\n",
    "def extract_top_three_cast(cast):\n",
    "    try:\n",
    "        cast_list = ast.literal_eval(cast)\n",
    "        if isinstance(cast_list, list):\n",
    "            return [d['name'] for d in cast_list[:3]]\n",
    "        return []\n",
    "    except (ValueError, SyntaxError):\n",
    "        return []\n",
    "\n",
    "def extract_director(crew):\n",
    "    try:\n",
    "        crew_list = ast.literal_eval(crew)\n",
    "        if isinstance(crew_list, list):\n",
    "            for member in crew_list:\n",
    "                if member['job'] == 'Director':\n",
    "                    return member['name']\n",
    "        return np.nan\n",
    "    except (ValueError, SyntaxError):\n",
    "        return np.nan\n",
    "\n",
    "# Transformar las columnas `cast` y `crew`\n",
    "df_unido_y_limpio['cast'] = df_unido_y_limpio['cast'].apply(extract_top_three_cast)\n",
    "df_unido_y_limpio['crew'] = df_unido_y_limpio['crew'].apply(extract_director)\n",
    "\n",
    "# Imprimir las primeras filas para verificar\n",
    "print(df_unido_y_limpio[['cast', 'crew']].head())\n"
   ]
  },
  {
   "cell_type": "code",
   "execution_count": 12,
   "metadata": {},
   "outputs": [
    {
     "name": "stdout",
     "output_type": "stream",
     "text": [
      "----(7). QUITO LOS ESPACIOS ENTRE LAS PALABRAS EN GENERES, CAST, CREW Y KEYWORDS\n",
      "                                         genres  \\\n",
      "0  [Action, Adventure, Fantasy, ScienceFiction]   \n",
      "1                  [Adventure, Fantasy, Action]   \n",
      "2                    [Action, Adventure, Crime]   \n",
      "3              [Action, Crime, Drama, Thriller]   \n",
      "4           [Action, Adventure, ScienceFiction]   \n",
      "\n",
      "                                            cast              crew  \\\n",
      "0  [SamWorthington, ZoeSaldana, SigourneyWeaver]      JamesCameron   \n",
      "1     [JohnnyDepp, OrlandoBloom, KeiraKnightley]     GoreVerbinski   \n",
      "2      [DanielCraig, ChristophWaltz, LéaSeydoux]         SamMendes   \n",
      "3      [ChristianBale, MichaelCaine, GaryOldman]  ChristopherNolan   \n",
      "4    [TaylorKitsch, LynnCollins, SamanthaMorton]     AndrewStanton   \n",
      "\n",
      "                                            keywords  \n",
      "0  [cultureclash, future, spacewar, spacecolony, ...  \n",
      "1  [ocean, drugabuse, exoticisland, eastindiatrad...  \n",
      "2  [spy, basedonnovel, secretagent, sequel, mi6, ...  \n",
      "3  [dccomics, crimefighter, terrorist, secretiden...  \n",
      "4  [basedonnovel, mars, medallion, spacetravel, p...  \n"
     ]
    }
   ],
   "source": [
    "print(\"----(7). QUITO LOS ESPACIOS ENTRE LAS PALABRAS EN GENERES, CAST, CREW Y KEYWORDS\")\n",
    "def remove_spaces(column):\n",
    "    return [x.replace(\" \", \"\") for x in column]\n",
    "\n",
    "# Aplicar la función para quitar espacios\n",
    "df_unido_y_limpio['genres'] = df_unido_y_limpio['genres'].apply(remove_spaces)\n",
    "df_unido_y_limpio['cast'] = df_unido_y_limpio['cast'].apply(remove_spaces)\n",
    "df_unido_y_limpio['crew'] = df_unido_y_limpio['crew'].apply(lambda x: x.replace(\" \", \"\") if isinstance(x, str) else x)\n",
    "df_unido_y_limpio['keywords'] = df_unido_y_limpio['keywords'].apply(remove_spaces)\n",
    "\n",
    "# Imprimir las primeras filas para verificar\n",
    "print(df_unido_y_limpio[['genres', 'cast', 'crew', 'keywords']].head())\n"
   ]
  },
  {
   "cell_type": "code",
   "execution_count": 13,
   "metadata": {},
   "outputs": [
    {
     "name": "stdout",
     "output_type": "stream",
     "text": [
      "----(8). CREO LA COLUMNA TAGS----\n",
      "                                                tags\n",
      "0  In the 22nd century, a paraplegic Marine is di...\n",
      "1  Captain Barbossa, long believed to be dead, ha...\n",
      "2  A cryptic message from Bond’s past sends him o...\n",
      "3  Following the death of District Attorney Harve...\n",
      "4  John Carter is a war-weary, former military ca...\n"
     ]
    }
   ],
   "source": [
    "print(\"----(8). CREO LA COLUMNA TAGS----\")\n",
    "def create_tags(row):\n",
    "    overview = row['overview'] if isinstance(row['overview'], str) else \"\"\n",
    "    genres = \" \".join(row['genres']) if isinstance(row['genres'], list) else \"\"\n",
    "    keywords = \" \".join(row['keywords']) if isinstance(row['keywords'], list) else \"\"\n",
    "    cast = \" \".join(row['cast']) if isinstance(row['cast'], list) else \"\"\n",
    "    crew = row['crew'] if isinstance(row['crew'], str) else \"\"\n",
    "    \n",
    "    return overview + \" \" + genres + \" \" + keywords + \" \" + cast + \" \" + crew\n",
    "\n",
    "# Crear la columna `tags`\n",
    "df_unido_y_limpio['tags'] = df_unido_y_limpio.apply(create_tags, axis=1)\n",
    "\n",
    "# Imprimir las primeras filas para verificar\n",
    "print(df_unido_y_limpio[['tags']].head())\n"
   ]
  },
  {
   "cell_type": "code",
   "execution_count": 14,
   "metadata": {},
   "outputs": [
    {
     "name": "stdout",
     "output_type": "stream",
     "text": [
      "<class 'pandas.core.frame.DataFrame'>\n",
      "RangeIndex: 4803 entries, 0 to 4802\n",
      "Data columns (total 8 columns):\n",
      " #   Column    Non-Null Count  Dtype \n",
      "---  ------    --------------  ----- \n",
      " 0   movie_id  4803 non-null   int64 \n",
      " 1   title_x   4803 non-null   object\n",
      " 2   overview  4800 non-null   object\n",
      " 3   genres    4803 non-null   object\n",
      " 4   keywords  4803 non-null   object\n",
      " 5   cast      4803 non-null   object\n",
      " 6   crew      4773 non-null   object\n",
      " 7   tags      4803 non-null   object\n",
      "dtypes: int64(1), object(7)\n",
      "memory usage: 300.3+ KB\n"
     ]
    }
   ],
   "source": [
    "df_unido_y_limpio.info()"
   ]
  },
  {
   "cell_type": "code",
   "execution_count": 15,
   "metadata": {},
   "outputs": [
    {
     "name": "stdout",
     "output_type": "stream",
     "text": [
      "----(9). CONSTRUYO EL MODELO KNN Y RECOMIENDO UNAS MOVIES CON RESPECTO A LA PELICULA 'AVATAR'----\n",
      "Titan A.E.\n",
      "Aliens vs Predator: Requiem\n",
      "Aliens\n",
      "Battle: Los Angeles\n",
      "Independence Day\n"
     ]
    }
   ],
   "source": [
    "print(\"----(9). CONSTRUYO EL MODELO KNN Y RECOMIENDO UNAS MOVIES CON RESPECTO A LA PELICULA 'AVATAR'----\")\n",
    "\n",
    "# Vectorizar el texto\n",
    "vec_model = CountVectorizer(stop_words='english')\n",
    "vectors = vec_model.fit_transform(df_unido_y_limpio['tags']).toarray()\n",
    "\n",
    "# Calcular la similitud coseno\n",
    "similarity = cosine_similarity(vectors)\n",
    "\n",
    "# Definir la función de recomendación\n",
    "def recommend(movie):\n",
    "    # Obtener el índice de la película en el dataframe\n",
    "    movie_index = df_unido_y_limpio[df_unido_y_limpio[\"title_x\"] == movie].index[0]\n",
    "    # Obtener las distancias de similitud coseno\n",
    "    distances = similarity[movie_index]\n",
    "    # Ordenar las películas por similitud y obtener las 5 más similares\n",
    "    movie_list = sorted(list(enumerate(distances)), reverse=True, key=lambda x: x[1])[1:6]\n",
    "    \n",
    "    # Imprimir los títulos de las películas recomendadas\n",
    "    for i in movie_list:\n",
    "        print(df_unido_y_limpio.iloc[i[0]]['title_x'])\n",
    "\n",
    "# Ejemplo de uso de la función de recomendación\n",
    "recommend(\"Avatar\")\n"
   ]
  }
 ],
 "metadata": {
  "kernelspec": {
   "display_name": "Python 3",
   "language": "python",
   "name": "python3"
  },
  "language_info": {
   "codemirror_mode": {
    "name": "ipython",
    "version": 3
   },
   "file_extension": ".py",
   "mimetype": "text/x-python",
   "name": "python",
   "nbconvert_exporter": "python",
   "pygments_lexer": "ipython3",
   "version": "3.10.12"
  },
  "orig_nbformat": 4
 },
 "nbformat": 4,
 "nbformat_minor": 2
}
